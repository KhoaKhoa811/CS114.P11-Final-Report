version https://git-lfs.github.com/spec/v1
oid sha256:3b54a2a30e388e96167ad5d5d8d4c2312dc4de84ba06cb9d39aec58ca4c2aaff
size 24838
