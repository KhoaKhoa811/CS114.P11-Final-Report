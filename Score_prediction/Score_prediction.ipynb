version https://git-lfs.github.com/spec/v1
oid sha256:3633ed5f1422d1651870bd78fe93056840fa474526e94d2d48cb29abf1a7a33b
size 242226
