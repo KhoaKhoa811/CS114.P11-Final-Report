version https://git-lfs.github.com/spec/v1
oid sha256:8e01147ecd527ba3c15270e77a464a79097d85a5cf53a338d5c661d18aafe752
size 7402
