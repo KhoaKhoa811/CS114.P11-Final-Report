version https://git-lfs.github.com/spec/v1
oid sha256:0d0f99b8057bc4f0d838e548b6035f33421685f9bc89f598b6929898e64b51a4
size 3396722
