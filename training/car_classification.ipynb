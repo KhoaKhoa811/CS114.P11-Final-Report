version https://git-lfs.github.com/spec/v1
oid sha256:f8458cd686385c6cd89e0bdaa49d549e51b809e3e8e1b29db1d6fa446d407309
size 618080
